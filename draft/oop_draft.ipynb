{
 "cells": [
  {
   "cell_type": "code",
   "execution_count": null,
   "id": "bcc48589",
   "metadata": {},
   "outputs": [],
   "source": [
    "from enum import Enum\n",
    "\n",
    "class TransportEnum(Enum):\n",
    "    UNDEFINE = 0\n",
    "    AFOOT = 1\n",
    "    BICYCLE = 2\n",
    "    SCOOTER = 3\n",
    "    PUBLICTRAN = 4\n",
    "    CAR = 5"
   ]
  },
  {
   "cell_type": "code",
   "execution_count": null,
   "id": "be8694cf",
   "metadata": {},
   "outputs": [],
   "source": [
    "class TranSpeedEnum(Enum):\n",
    "    UNDEFINE = 0\n",
    "    AFOOT = 4.0\n",
    "    BICYCLE = 8.0\n",
    "    SCOOTER = 15.0\n",
    "    PUBLICTRAN = 30.0\n",
    "    CAR = 70.0"
   ]
  },
  {
   "cell_type": "code",
   "execution_count": null,
   "id": "9a9bcdd5",
   "metadata": {},
   "outputs": [],
   "source": [
    "class DistrictEnum(Enum):\n",
    "    UNDEFINE = 0\n",
    "    BRAGINO = 1\n",
    "    ZAVOLGA = 2\n",
    "    KIROVSKYI = 3\n",
    "    LENINSKYI = 4\n",
    "    FRUNZENSKYI = 5\n",
    "    KRASNOPEREKOPSKYI = 6"
   ]
  },
  {
   "cell_type": "code",
   "execution_count": null,
   "id": "07f31a6e",
   "metadata": {},
   "outputs": [],
   "source": [
    "class Address:\n",
    "    country: str\n",
    "    city: str\n",
    "    district: DistrictEnum\n",
    "    street: str\n",
    "    house_number: int\n",
    "    apart_number: int"
   ]
  },
  {
   "cell_type": "code",
   "execution_count": null,
   "id": "f4cd315b",
   "metadata": {},
   "outputs": [],
   "source": [
    "class Person:\n",
    "    iden: int\n",
    "    name: str\n",
    "    phone_number: str\n",
    "    age: int\n",
    "    living_address: Address"
   ]
  },
  {
   "cell_type": "code",
   "execution_count": null,
   "id": "a27e2c9e",
   "metadata": {},
   "outputs": [],
   "source": [
    "class Courier(Person):\n",
    "    # район, в котором курьер работает\n",
    "    area: DistrictEnum\n",
    "    transport: TransportEnum\n",
    "    salary: int\n",
    "    registration_time: int\n",
    "    active: bool\n",
    "    order: Order"
   ]
  },
  {
   "cell_type": "code",
   "execution_count": null,
   "id": "a3bf48ee",
   "metadata": {},
   "outputs": [],
   "source": [
    "class CourierManager:\n",
    "    base: [Courier]\n",
    "    \n",
    "    # функция которая по заказу определяет курьера, который будет доставлять этот заказ, или определяет\n",
    "    # что такого нет. От заказа нужно: откуда, куда, как долго можно ехать(в часах), вес(кг), объем(литры).\n",
    "    # коды ошибок \n",
    "    # 0 - все хорошо\n",
    "    # 1 - не успеем доехать\n",
    "    # 2 - слишком тяжёлый заказ\n",
    "    # 3 - слишком объемный заказ\n",
    "    def choose_courier(order: Order) -> (Courier, int):\n",
    "        \n",
    "        if order.weight > 7.0 || order.volume > 5.0:\n",
    "            # считаем, что для большего веса или объема нужна машина\n",
    "            \n",
    "            # проверяем что успеем доехать\n",
    "            if dist(order.start, order.end) / TranSpeedEnum[CAR] > order.time_limit:\n",
    "                return (0, 1)\n",
    "            \n",
    "            for cour in base:\n",
    "                if cour.transport == CAR and cour.active == True:\n",
    "                    cour.order = order\n",
    "                    return (cour, 0)\n",
    "                \n",
    "            if order.weight > 7.0:\n",
    "                return (0, 2)\n",
    "            else:\n",
    "                return (0, 3)\n",
    "        \n",
    "        "
   ]
  }
 ],
 "metadata": {
  "kernelspec": {
   "display_name": "Python 3 (ipykernel)",
   "language": "python",
   "name": "python3"
  },
  "language_info": {
   "codemirror_mode": {
    "name": "ipython",
    "version": 3
   },
   "file_extension": ".py",
   "mimetype": "text/x-python",
   "name": "python",
   "nbconvert_exporter": "python",
   "pygments_lexer": "ipython3",
   "version": "3.9.18"
  }
 },
 "nbformat": 4,
 "nbformat_minor": 5
}
