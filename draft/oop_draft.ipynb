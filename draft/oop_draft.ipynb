{
 "cells": [
  {
   "cell_type": "code",
   "execution_count": 11,
   "id": "bcc48589",
   "metadata": {},
   "outputs": [],
   "source": [
    "from enum import Enum\n",
    "from random import randint\n",
    "\n",
    "class TransportEnum(Enum):\n",
    "    UNDEFINE = 0\n",
    "    AFOOT = 1\n",
    "    BICYCLE = 2\n",
    "    SCOOTER = 3\n",
    "    PUBLICTRAN = 4\n",
    "    CAR = 5"
   ]
  },
  {
   "cell_type": "code",
   "execution_count": 12,
   "id": "be8694cf",
   "metadata": {},
   "outputs": [],
   "source": [
    "class TranSpeedEnum(Enum):\n",
    "    UNDEFINE = 0\n",
    "    AFOOT = 4.0\n",
    "    BICYCLE = 8.0\n",
    "    SCOOTER = 15.0\n",
    "    PUBLICTRAN = 30.0\n",
    "    CAR = 70.0"
   ]
  },
  {
   "cell_type": "code",
   "execution_count": 13,
   "id": "9a9bcdd5",
   "metadata": {},
   "outputs": [],
   "source": [
    "class DistrictEnum(Enum):\n",
    "    UNDEFINE = 0\n",
    "    BRAGINO = 1\n",
    "    ZAVOLGA = 2\n",
    "    KIROVSKYI = 3\n",
    "    LENINSKYI = 4\n",
    "    FRUNZENSKYI = 5\n",
    "    KRASNOPEREKOPSKYI = 6"
   ]
  },
  {
   "cell_type": "code",
   "execution_count": 14,
   "id": "07f31a6e",
   "metadata": {},
   "outputs": [],
   "source": [
    "class Address:\n",
    "    country: str\n",
    "    city: str\n",
    "    district: DistrictEnum\n",
    "    street: str\n",
    "    house_number: int\n",
    "    apart_number: int\n",
    "        \n",
    "    def __init__(self, country: str,\n",
    "                 city: str,\n",
    "                 district: DistrictEnum,\n",
    "                 street: str,\n",
    "                 house_number: int,\n",
    "                 apart_number: int):\n",
    "        self.country = country\n",
    "        self.city = city\n",
    "        self.district = district\n",
    "        self.street = street\n",
    "        self.house_number = house_number\n",
    "        self.apart_number = apart_number"
   ]
  },
  {
   "cell_type": "code",
   "execution_count": 17,
   "id": "f4cd315b",
   "metadata": {},
   "outputs": [],
   "source": [
    "class Person:\n",
    "    iden: int\n",
    "    name: str\n",
    "    phone_number: str\n",
    "    age: int\n",
    "    living_address: Address    \n",
    "        \n",
    "    def __init__(self,name: str,\n",
    "                 phone_number: str,\n",
    "                 age: int,\n",
    "                 living_address: Address):\n",
    "        self.iden = randint(1000000000)\n",
    "        self.name = name\n",
    "        self.phone_number = phone_number\n",
    "        self.age = age\n",
    "        self.living_address = living_address"
   ]
  },
  {
   "cell_type": "code",
   "execution_count": 18,
   "id": "a27e2c9e",
   "metadata": {
    "collapsed": true
   },
   "outputs": [
    {
     "ename": "NameError",
     "evalue": "name 'Order' is not defined",
     "output_type": "error",
     "traceback": [
      "\u001b[1;31m---------------------------------------------------------------------------\u001b[0m",
      "\u001b[1;31mNameError\u001b[0m                                 Traceback (most recent call last)",
      "Cell \u001b[1;32mIn[18], line 1\u001b[0m\n\u001b[1;32m----> 1\u001b[0m \u001b[38;5;28;01mclass\u001b[39;00m \u001b[38;5;21;01mCourier\u001b[39;00m(Person):\n\u001b[0;32m      2\u001b[0m     \u001b[38;5;66;03m# район, в котором курьер работает\u001b[39;00m\n\u001b[0;32m      3\u001b[0m     area: DistrictEnum\n\u001b[0;32m      4\u001b[0m     transport: TransportEnum\n",
      "Cell \u001b[1;32mIn[18], line 8\u001b[0m, in \u001b[0;36mCourier\u001b[1;34m()\u001b[0m\n\u001b[0;32m      6\u001b[0m registration_time: \u001b[38;5;28mint\u001b[39m\n\u001b[0;32m      7\u001b[0m active: \u001b[38;5;28mbool\u001b[39m\n\u001b[1;32m----> 8\u001b[0m order: \u001b[43mOrder\u001b[49m\n\u001b[0;32m     10\u001b[0m \u001b[38;5;28;01mdef\u001b[39;00m \u001b[38;5;21m__init__\u001b[39m(\u001b[38;5;28mself\u001b[39m, area, transport, salary, registration_time, active, order):\n\u001b[0;32m     11\u001b[0m     \u001b[38;5;28mself\u001b[39m\u001b[38;5;241m.\u001b[39miden \u001b[38;5;241m=\u001b[39m iden\n",
      "\u001b[1;31mNameError\u001b[0m: name 'Order' is not defined"
     ]
    }
   ],
   "source": [
    "class Courier(Person):\n",
    "    # район, в котором курьер работает\n",
    "    area: DistrictEnum\n",
    "    transport: TransportEnum\n",
    "    salary: int\n",
    "    registration_time: int\n",
    "    active: bool\n",
    "    order: Order\n",
    "    marks: [float] # оценка курьера\n",
    "    taken_orders: int # количество доставленных заказов\n",
    "        \n",
    "    def __init__(self, name: str,\n",
    "                 phone_number: str,\n",
    "                 age: int,\n",
    "                 living_address: Adderss,\n",
    "                 area: DistrictEnum,\n",
    "                 transport: TransportEnum,\n",
    "                 salary: int,\n",
    "                 registration_time: int):\n",
    "        # конструктор родительского класса\n",
    "        super().__init__(self, name, phone_number, age, living_address)\n",
    "        self.area = area\n",
    "        self.transport = transport\n",
    "        self.salary = salary\n",
    "        self.registration_time = registration_time\n",
    "        self.active = True\n",
    "        self.order = 0 # пустой(несуществующий) заказ\n",
    "        self.mark = []\n",
    "        \n",
    "    def take_order(order: Order) -> void:\n",
    "        self.active = False\n",
    "        self.order = order\n",
    "        \n",
    "    def finish_order(order: Order) -> void:\n",
    "        self.active = True\n",
    "        self.order = 0\n",
    "        \n",
    "    def mark_cour(mark: int) -> void:\n",
    "        if 1 <= mark and mark <= 5:\n",
    "            marks.append(float(mark))\n",
    "            \n",
    "    def get_mark() -> float:\n",
    "        return sum(marks) / len(marks)"
   ]
  },
  {
   "cell_type": "code",
   "execution_count": 10,
   "id": "a3bf48ee",
   "metadata": {
    "collapsed": true
   },
   "outputs": [
    {
     "ename": "NameError",
     "evalue": "name 'Courier' is not defined",
     "output_type": "error",
     "traceback": [
      "\u001b[1;31m---------------------------------------------------------------------------\u001b[0m",
      "\u001b[1;31mNameError\u001b[0m                                 Traceback (most recent call last)",
      "Cell \u001b[1;32mIn[10], line 1\u001b[0m\n\u001b[1;32m----> 1\u001b[0m \u001b[38;5;28;01mclass\u001b[39;00m \u001b[38;5;21;01mCourierManager\u001b[39;00m:\n\u001b[0;32m      2\u001b[0m     base: [Courier]\n\u001b[0;32m      4\u001b[0m     \u001b[38;5;66;03m# функция которая по заказу определяет курьера, который будет доставлять этот заказ, или определяет\u001b[39;00m\n\u001b[0;32m      5\u001b[0m     \u001b[38;5;66;03m# что такого нет. От заказа нужно: откуда, куда, как долго можно ехать(в часах), вес(кг), объем(литры).\u001b[39;00m\n\u001b[0;32m      6\u001b[0m     \u001b[38;5;66;03m# коды ошибок \u001b[39;00m\n\u001b[1;32m   (...)\u001b[0m\n\u001b[0;32m     10\u001b[0m     \u001b[38;5;66;03m# 3 - слишком объемный заказ\u001b[39;00m\n\u001b[0;32m     11\u001b[0m     \u001b[38;5;66;03m# 4 - нет свободных курьеров\u001b[39;00m\n",
      "Cell \u001b[1;32mIn[10], line 2\u001b[0m, in \u001b[0;36mCourierManager\u001b[1;34m()\u001b[0m\n\u001b[0;32m      1\u001b[0m \u001b[38;5;28;01mclass\u001b[39;00m \u001b[38;5;21;01mCourierManager\u001b[39;00m:\n\u001b[1;32m----> 2\u001b[0m     base: [\u001b[43mCourier\u001b[49m]\n\u001b[0;32m      4\u001b[0m     \u001b[38;5;66;03m# функция которая по заказу определяет курьера, который будет доставлять этот заказ, или определяет\u001b[39;00m\n\u001b[0;32m      5\u001b[0m     \u001b[38;5;66;03m# что такого нет. От заказа нужно: откуда, куда, как долго можно ехать(в часах), вес(кг), объем(литры).\u001b[39;00m\n\u001b[0;32m      6\u001b[0m     \u001b[38;5;66;03m# коды ошибок \u001b[39;00m\n\u001b[1;32m   (...)\u001b[0m\n\u001b[0;32m     10\u001b[0m     \u001b[38;5;66;03m# 3 - слишком объемный заказ\u001b[39;00m\n\u001b[0;32m     11\u001b[0m     \u001b[38;5;66;03m# 4 - нет свободных курьеров\u001b[39;00m\n\u001b[0;32m     12\u001b[0m     \u001b[38;5;28;01mdef\u001b[39;00m \u001b[38;5;21mchoose_courier\u001b[39m(order: Order) \u001b[38;5;241m-\u001b[39m\u001b[38;5;241m>\u001b[39m (Courier, \u001b[38;5;28mint\u001b[39m):\n\u001b[0;32m     13\u001b[0m         \n\u001b[0;32m     14\u001b[0m         \u001b[38;5;66;03m# проверяем что есть активные курьеры\u001b[39;00m\n",
      "\u001b[1;31mNameError\u001b[0m: name 'Courier' is not defined"
     ]
    }
   ],
   "source": [
    "class CourierManager:\n",
    "    base: [Courier]\n",
    "    \n",
    "    # функция которая по заказу определяет курьера, который будет доставлять этот заказ, или определяет\n",
    "    # что такого нет. От заказа нужно: откуда, куда, как долго можно ехать(в часах), вес(кг), объем(литры).\n",
    "    # коды ошибок \n",
    "    # 0 - все хорошо\n",
    "    # 1 - не успеем доехать\n",
    "    # 2 - слишком тяжёлый заказ\n",
    "    # 3 - слишком объемный заказ\n",
    "    # 4 - нет свободных курьеров\n",
    "    def choose_courier(order: Order) -> (Courier, int):\n",
    "        \n",
    "        # проверяем что есть активные курьеры\n",
    "        found_active_cour = False\n",
    "        for cour in base:\n",
    "            if cour.active:\n",
    "                found_active_cour = True\n",
    "                break            \n",
    "        if not found_active_cour:\n",
    "            return (0, 4)\n",
    "        \n",
    "        if order.weight > 7.0 or order.volume > 5.0:\n",
    "            # считаем, что для большего веса или объема нужна машина\n",
    "            \n",
    "            # проверяем что успеем доехать\n",
    "            if dist(order.start, order.end) / TranSpeedEnum[CAR] > order.time_limit:\n",
    "                return (0, 1)\n",
    "            \n",
    "            for cour in base:\n",
    "                if cour.transport == CAR and cour.active == True:\n",
    "                    cour.take_order(order)\n",
    "                    return (cour, 0)\n",
    "                \n",
    "            if order.weight > 7.0:\n",
    "                return (0, 2)\n",
    "            else:\n",
    "                return (0, 3)\n",
    "        \n",
    "        # вес меньше 7, объем меньше 5\n",
    "        # проверяем что есть курьеры, которые смогут доставить за требуемое время\n",
    "        for cour in base:\n",
    "            if cour.active and dist(order.start, order.end) / TranSpeedEnum[cour.transport] <= ordr.time_limit:\n",
    "                return (cour, 0)\n",
    "        \n",
    "        # иначе говорим, что не успеваем доехать\n",
    "        return (cour, 1)\n",
    "    \n",
    "    # добавление нового курьеры в базу\n",
    "    def add_courier(name: str,\n",
    "                 phone_number: str,\n",
    "                 age: int,\n",
    "                 living_address: Adderss,\n",
    "                 area: DistrictEnum,\n",
    "                 transport: TransportEnum,\n",
    "                 salary: int,\n",
    "                 registration_time: int) -> void:\n",
    "        cour = Courier(name, phone_number, living_address, area, transport, salary, registration_time)\n",
    "        base.append(cour)"
   ]
  }
 ],
 "metadata": {
  "kernelspec": {
   "display_name": "Python 3 (ipykernel)",
   "language": "python",
   "name": "python3"
  },
  "language_info": {
   "codemirror_mode": {
    "name": "ipython",
    "version": 3
   },
   "file_extension": ".py",
   "mimetype": "text/x-python",
   "name": "python",
   "nbconvert_exporter": "python",
   "pygments_lexer": "ipython3",
   "version": "3.9.18"
  }
 },
 "nbformat": 4,
 "nbformat_minor": 5
}
